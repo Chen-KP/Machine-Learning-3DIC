{
 "cells": [
  {
   "cell_type": "code",
   "execution_count": 1,
   "metadata": {},
   "outputs": [
    {
     "name": "stderr",
     "output_type": "stream",
     "text": [
      "Using TensorFlow backend.\n"
     ]
    }
   ],
   "source": [
    "##-----------------------------------------------------------------------------\n",
    "## Import\n",
    "##-----------------------------------------------------------------------------\n",
    "import time\n",
    "import os\n",
    "import h5py\n",
    "import math\n",
    "#import warnings\n",
    "#warnings.simplefilter(action = \"ignore\", category = RuntimeWarning)\n",
    "\n",
    "import scipy.io as sio \n",
    "import numpy as np\n",
    "import tensorflow as tf\n",
    "import matplotlib.pyplot as plt\n",
    "\n",
    "from sklearn.model_selection import train_test_split\n",
    "from keras.utils import np_utils\n",
    "from keras.callbacks import TensorBoard\n",
    "#from newv_focal_loss import *\n",
    "\n",
    "##-----------------------------------------------------------------------------\n",
    "## GPU Selection\n",
    "##-----------------------------------------------------------------------------\n",
    "os.environ['CUDA_VISIBLE_DEVICES']='0'\n",
    "tf.reset_default_graph()"
   ]
  },
  {
   "cell_type": "code",
   "execution_count": 2,
   "metadata": {},
   "outputs": [],
   "source": [
    "##-----------------------------------------------------------------------------\n",
    "## Load data\n",
    "##-----------------------------------------------------------------------------\n",
    "DataIntensity1 = h5py.File('../augbroken1.mat', 'r')\n",
    "Intensity1 = np.array(DataIntensity1.get('dataCrop'))\n",
    "DataIntensity2 = h5py.File('../augbroken2.mat', 'r')\n",
    "Intensity2 = np.array(DataIntensity2.get('dataCrop'))\n",
    "DataIntensity3 = h5py.File('../augbroken7.mat', 'r')\n",
    "Intensity3 = np.array(DataIntensity3.get('dataCrop'))\n",
    "\n",
    "DataIntensity4 = h5py.File('../auggood1.mat', 'r')\n",
    "Intensity4 = np.array(DataIntensity4.get('dataCrop'))\n",
    "DataIntensity5 = h5py.File('../auggood4.mat', 'r')\n",
    "Intensity5 = np.array(DataIntensity5.get('dataCrop'))\n",
    "\n",
    "\n",
    "#Intensity = Intensity.T\n",
    "DataType1 = sio.loadmat('../augbrokentype1.mat')\n",
    "Type1 = np.array(DataType1['dataType'])\n",
    "DataType2 = sio.loadmat('../augbrokentype2.mat')\n",
    "Type2 = np.array(DataType2['dataType'])\n",
    "DataType3 = sio.loadmat('../augbrokentype7.mat')\n",
    "Type3 = np.array(DataType3['dataType'])\n",
    "\n",
    "DataType4 = sio.loadmat('../auggoodtype1.mat')\n",
    "Type4 = np.array(DataType4['dataType'])\n",
    "DataType5 = sio.loadmat('../auggoodtype4.mat')\n",
    "Type5 = np.array(DataType5['dataType'])"
   ]
  },
  {
   "cell_type": "code",
   "execution_count": 3,
   "metadata": {},
   "outputs": [],
   "source": [
    "MaxIntensity = 65535"
   ]
  },
  {
   "cell_type": "code",
   "execution_count": 4,
   "metadata": {},
   "outputs": [
    {
     "name": "stdout",
     "output_type": "stream",
     "text": [
      "Intensity1.shape=(2880, 81, 81, 81), Intensity2.shape=(2880, 81, 81, 81)\n",
      "Intensity3.shape=(1224, 81, 81, 81)\n",
      "Intensity4.shape=(2880, 81, 81, 81), Intensity5.shape=(1656, 81, 81, 81)\n",
      "Type1.shape=(2880, 1), Type2.shape=(2880, 1)\n",
      "Type3.shape=(1224, 1)\n",
      "Type4.shape=(2880, 1), Type5.shape=(1656, 1)\n"
     ]
    }
   ],
   "source": [
    "print(\"Intensity1.shape={}, Intensity2.shape={}\".format(Intensity1.shape, Intensity2.shape))\n",
    "print(\"Intensity3.shape={}\".format(Intensity3.shape))\n",
    "print(\"Intensity4.shape={}, Intensity5.shape={}\".format(Intensity4.shape, Intensity5.shape))\n",
    "\n",
    "print(\"Type1.shape={}, Type2.shape={}\".format(Type1.shape, Type2.shape))\n",
    "print(\"Type3.shape={}\".format(Type3.shape))\n",
    "print(\"Type4.shape={}, Type5.shape={}\".format(Type4.shape, Type5.shape))"
   ]
  },
  {
   "cell_type": "code",
   "execution_count": 5,
   "metadata": {},
   "outputs": [
    {
     "name": "stdout",
     "output_type": "stream",
     "text": [
      "Intensity.shape=(11520, 81, 81, 81)\n",
      "Type.shape=(11520, 1)\n"
     ]
    }
   ],
   "source": [
    "Intensity = np.vstack((Intensity1,Intensity2,Intensity3,Intensity4,Intensity5))/MaxIntensity\n",
    "print(\"Intensity.shape={}\".format(Intensity.shape))\n",
    "Type = np.vstack((Type1,Type2,Type3,Type4,Type5))\n",
    "print(\"Type.shape={}\".format(Type.shape))"
   ]
  },
  {
   "cell_type": "code",
   "execution_count": 6,
   "metadata": {
    "scrolled": true
   },
   "outputs": [
    {
     "name": "stdout",
     "output_type": "stream",
     "text": [
      "y_train.shape=(11520, 81, 81, 81)\n"
     ]
    }
   ],
   "source": [
    "y_train = Intensity\n",
    "print(\"y_train.shape={}\".format(y_train.shape))"
   ]
  },
  {
   "cell_type": "code",
   "execution_count": 7,
   "metadata": {
    "scrolled": true
   },
   "outputs": [
    {
     "name": "stdout",
     "output_type": "stream",
     "text": [
      "WARNING:tensorflow:From /usr/local/lib/python3.6/dist-packages/tensorflow_core/python/ops/resource_variable_ops.py:1630: calling BaseResourceVariable.__init__ (from tensorflow.python.ops.resource_variable_ops) with constraint is deprecated and will be removed in a future version.\n",
      "Instructions for updating:\n",
      "If using Keras pass *_constraint arguments to layers.\n",
      "WARNING:tensorflow:From /home/p00ckp00/.local/lib/python3.6/site-packages/keras/backend/tensorflow_backend.py:422: The name tf.global_variables is deprecated. Please use tf.compat.v1.global_variables instead.\n",
      "\n",
      "The model 0 is restored suscessfully!\n",
      "[1 1 1 ... 1 1 1]\n",
      "The prediction 0 is completed suscessfully!\n",
      "Time=80.9121344089508sec\n",
      "----------------------------------------------------------------\n",
      "------------------------------------------------------------------------------------------------------\n",
      "All Predictions are completed!\n",
      "All Time=80.91636943817139sec\n"
     ]
    },
    {
     "data": {
      "image/png": "[encoded data removed]",
      "text/plain": [
       "<Figure size 432x288 with 2 Axes>"
      ]
     },
     "metadata": {
      "needs_background": "light"
     },
     "output_type": "display_data"
    },
    {
     "name": "stdout",
     "output_type": "stream",
     "text": [
      "The model 0 is restored suscessfully!\n",
      "[1 1 1 ... 1 1 1]\n",
      "The prediction 0 is completed suscessfully!\n",
      "Time=78.44444227218628sec\n",
      "----------------------------------------------------------------\n",
      "------------------------------------------------------------------------------------------------------\n",
      "All Predictions are completed!\n",
      "All Time=78.44874167442322sec\n"
     ]
    },
    {
     "data": {
      "image/png": "[encoded data removed]",
      "text/plain": [
       "<Figure size 432x288 with 2 Axes>"
      ]
     },
     "metadata": {
      "needs_background": "light"
     },
     "output_type": "display_data"
    },
    {
     "name": "stdout",
     "output_type": "stream",
     "text": [
      "The model 0 is restored suscessfully!\n",
      "[0 1 1 ... 0 1 1]\n",
      "The prediction 0 is completed suscessfully!\n",
      "Time=75.95222449302673sec\n",
      "----------------------------------------------------------------\n",
      "------------------------------------------------------------------------------------------------------\n",
      "All Predictions are completed!\n",
      "All Time=75.95725131034851sec\n"
     ]
    },
    {
     "data": {
      "image/png": "[encoded data removed]",
      "text/plain": [
       "<Figure size 432x288 with 2 Axes>"
      ]
     },
     "metadata": {
      "needs_background": "light"
     },
     "output_type": "display_data"
    }
   ],
   "source": [
    "TrainRun = 0\n",
    "TrainModel = 3\n",
    "MODELS = 1\n",
    "for F in range(TrainModel):\n",
    "    F = F + 1\n",
    "\n",
    "\n",
    "    ##-----------------------------------------------------------------------------\n",
    "    ## Time\n",
    "    ##-----------------------------------------------------------------------------\n",
    "    tic1 = time.time()\n",
    "    fp = open(str(F) + \"/T\" + str(TrainRun) + \"/PredictResult.txt\", \"w\")  #####------------------------------ print\n",
    "\n",
    "\n",
    "\n",
    "\n",
    "    ##-----------------------------------------------------------------------------\n",
    "    ## Normalize Testing set (z-score : (x-x.mean)/x.std)\n",
    "    ##-----------------------------------------------------------------------------\n",
    "\n",
    "    #y_train_Norm = np.zeros((y_train.shape[0], y_train.shape[1], y_train.shape[2], y_train.shape[3]))\n",
    "    #for iNum_Atom in range(y_train.shape[0]):\n",
    "    #    y_train_Norm[iNum_Atom,:,:,:] = (y_train[iNum_Atom,:,:,:] - y_train[iNum_Atom,:,:,:].mean() )/ y_train[iNum_Atom,:,:,:].std()\n",
    "    #print(\"y_train_Norm.shape={}\".format(y_train_Norm.shape)) \n",
    "\n",
    "\n",
    "    ##-----------------------------------------------------------------------------\n",
    "    ## Reshape Training set & x_label ---> one hot\n",
    "    ##-----------------------------------------------------------------------------\n",
    "    y_train_NR = y_train.reshape(y_train.shape[0], y_train.shape[1], y_train.shape[2], y_train.shape[3], 1)\n",
    "\n",
    "\n",
    "    #MODELS = 11\n",
    "    #y_pred = np.zeros((MODELS, 23804))\n",
    "    from keras.models import load_model\n",
    "    from keras import backend as K\n",
    "\n",
    "    for m in range(MODELS):\n",
    "        tic = time.time()\n",
    "\n",
    "        prediction_result = []\n",
    "\n",
    "        model = load_model(str(F) + '/my_CNNmodel_%d.h5'%(m))\n",
    "        #model = load_model('my_CNNmodel_%d.h5'%(m), custom_objects={'focal_loss':focal_loss})\n",
    "\n",
    "        print(\"The model %s is restored suscessfully!\"%(m)) \n",
    "\n",
    "        prediction_result = model.predict(y_train_NR)\n",
    "        prediction_cluster = model.predict_classes(y_train_NR)\n",
    "        prediction_result = np.float32(prediction_result) \n",
    "        #-------------save\n",
    "        sio.savemat(str(F) + \"/T\" + str(TrainRun) + '/prediction_result%s.mat' %(m), {'prediction_result%s'%(m):prediction_result})\n",
    "        sio.savemat(str(F) + \"/T\" + str(TrainRun) + '/prediction_cluster%s.mat' %(m), {'prediction_cluster%s' %(m):prediction_cluster})\n",
    "\n",
    "        print(prediction_cluster)\n",
    "        print(\"The prediction %s is completed suscessfully!\"%(m)) \n",
    "\n",
    "        toc = time.time()\n",
    "        print(\"Time=\" + str((toc-tic)) + \"sec\")\n",
    "        print(\"----------------------------------------------------------------\")\n",
    "        lines1 = (\"model: %4d, time: %4.6g\\n\"%(m, toc-tic))\n",
    "        fp.writelines(lines1)\n",
    "        K.clear_session()\n",
    "    #----------------------------------------------------------------------------------------------------------------------    \n",
    "    toc1 = time.time()\n",
    "    print(\"------------------------------------------------------------------------------------------------------\") \n",
    "    print(\"All Predictions are completed!\")\n",
    "    print(\"All Time=\" + str((toc1-tic1)) + \"sec\")\n",
    "\n",
    "    lines2 = \"All Time=\" + str((toc1-tic1)) + \"sec\\n\"\n",
    "    fp.writelines(lines2)\n",
    "\n",
    "    fp.close()#####------------------------------ print\n",
    "    \n",
    "    plt.plot(prediction_cluster)\n",
    "    \n",
    "    #AtomType = Type\n",
    "    #Type = AtomType-1\n",
    "    \n",
    "    from sklearn.metrics import confusion_matrix\n",
    "    cf_matrix_result=confusion_matrix(np.int8(Type-1), prediction_cluster)\n",
    "\n",
    "    cf_matrix_result\n",
    "    \n",
    "    import seaborn as sns\n",
    "    group_names = ['True Neg','False Pos','False Neg','True Pos']\n",
    "    group_counts = [\"{0:0.0f}\".format(value) for value in\n",
    "                    cf_matrix_result.flatten()]\n",
    "    group_percentages = [\"{0:.2%}\".format(value) for value in\n",
    "                         cf_matrix_result.flatten()/np.sum(cf_matrix_result)]\n",
    "    labels = [f\"{v1}\\n{v2}\\n{v3}\" for v1, v2, v3 in\n",
    "              zip(group_names,group_counts,group_percentages)]\n",
    "    labels = np.asarray(labels).reshape(2,2)\n",
    "    sns.heatmap(cf_matrix_result, annot=labels, fmt='', cmap='Greens')\n",
    "    plt.savefig(str(F) + \"/R\" + str(F) + \"_\" + 'cf_matrix-{}.png'.format(TrainRun+1), format='png')\n",
    "    plt.show()\n",
    "\n"
   ]
  },
  {
   "cell_type": "code",
   "execution_count": 8,
   "metadata": {},
   "outputs": [
    {
     "data": {
      "text/plain": [
       "[<matplotlib.lines.Line2D at 0x7f512ff51f98>]"
      ]
     },
     "execution_count": 8,
     "metadata": {},
     "output_type": "execute_result"
    },
    {
     "data": {
      "image/png": "[encoded data removed]",
      "text/plain": [
       "<Figure size 432x288 with 1 Axes>"
      ]
     },
     "metadata": {
      "needs_background": "light"
     },
     "output_type": "display_data"
    }
   ],
   "source": [
    "plt.plot(prediction_cluster)"
   ]
  },
  {
   "cell_type": "code",
   "execution_count": 9,
   "metadata": {},
   "outputs": [
    {
     "data": {
      "text/plain": [
       "array([[5928, 1056],\n",
       "       [1777, 2759]])"
      ]
     },
     "execution_count": 9,
     "metadata": {},
     "output_type": "execute_result"
    }
   ],
   "source": [
    "from sklearn.metrics import confusion_matrix\n",
    "cf_matrix_result=confusion_matrix(Type-1, prediction_cluster)\n",
    "\n",
    "cf_matrix_result"
   ]
  },
  {
   "cell_type": "code",
   "execution_count": 10,
   "metadata": {},
   "outputs": [
    {
     "data": {
      "image/png": "[encoded data removed]",
      "text/plain": [
       "<Figure size 432x288 with 2 Axes>"
      ]
     },
     "metadata": {
      "needs_background": "light"
     },
     "output_type": "display_data"
    }
   ],
   "source": [
    "import seaborn as sns\n",
    "group_names = ['True Neg','False Pos','False Neg','True Pos']\n",
    "group_counts = [\"{0:0.0f}\".format(value) for value in\n",
    "                cf_matrix_result.flatten()]\n",
    "group_percentages = [\"{0:.2%}\".format(value) for value in\n",
    "                     cf_matrix_result.flatten()/np.sum(cf_matrix_result)]\n",
    "labels = [f\"{v1}\\n{v2}\\n{v3}\" for v1, v2, v3 in\n",
    "          zip(group_names,group_counts,group_percentages)]\n",
    "labels = np.asarray(labels).reshape(2,2)\n",
    "sns.heatmap(cf_matrix_result, annot=labels, fmt='', cmap='Greens')\n",
    "plt.savefig(str(F) + \"/R\" + str(F) + \"_\" + 'cf_matrix-{}.png'.format(TrainRun+1), format='png')\n",
    "plt.show()"
   ]
  },
  {
   "cell_type": "code",
   "execution_count": null,
   "metadata": {},
   "outputs": [],
   "source": []
  }
 ],
 "metadata": {
  "kernelspec": {
   "display_name": "Python 3",
   "language": "python",
   "name": "python3"
  },
  "language_info": {
   "codemirror_mode": {
    "name": "ipython",
    "version": 3
   },
   "file_extension": ".py",
   "mimetype": "text/x-python",
   "name": "python",
   "nbconvert_exporter": "python",
   "pygments_lexer": "ipython3",
   "version": "3.6.9"
  }
 },
 "nbformat": 4,
 "nbformat_minor": 2
}
